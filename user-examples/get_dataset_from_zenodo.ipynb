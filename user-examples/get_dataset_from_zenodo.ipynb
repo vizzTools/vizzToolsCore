{
 "metadata": {
  "language_info": {
   "codemirror_mode": {
    "name": "ipython",
    "version": 3
   },
   "file_extension": ".py",
   "mimetype": "text/x-python",
   "name": "python",
   "nbconvert_exporter": "python",
   "pygments_lexer": "ipython3",
   "version": "3.8.5-final"
  },
  "orig_nbformat": 2,
  "kernelspec": {
   "name": "python38564bitdf682b14f6f8481c9e7311c2191f7adf",
   "display_name": "Python 3.8.5 64-bit"
  }
 },
 "nbformat": 4,
 "nbformat_minor": 2,
 "cells": [
  {
   "cell_type": "code",
   "execution_count": 2,
   "metadata": {},
   "outputs": [
    {
     "output_type": "stream",
     "name": "stdout",
     "text": [
      "Obtaining file:///home/edward/Documents/vizzToolsCore\n",
      "Installing collected packages: vizzToolsCore\n",
      "  Attempting uninstall: vizzToolsCore\n",
      "    Found existing installation: vizzToolsCore 0.0.1\n",
      "    Uninstalling vizzToolsCore-0.0.1:\n",
      "      Successfully uninstalled vizzToolsCore-0.0.1\n",
      "  Running setup.py develop for vizzToolsCore\n",
      "Successfully installed vizzToolsCore\n"
     ]
    }
   ],
   "source": [
    "!pip3 install -e ../"
   ]
  },
  {
   "cell_type": "code",
   "execution_count": 3,
   "metadata": {},
   "outputs": [],
   "source": [
    "from vizzToolsCore import VtcDataset"
   ]
  },
  {
   "cell_type": "code",
   "execution_count": 9,
   "metadata": {},
   "outputs": [],
   "source": [
    "# Create a new VtcDataset object\n",
    "ds = VtcDataset.vtc_dataset_from_dict({\"@type\": \"VtcDataset\", \"@id\": \"my-test-dataset\", \"$schema\": \"\", \"@context\":\"\"})"
   ]
  },
  {
   "cell_type": "code",
   "execution_count": 11,
   "metadata": {},
   "outputs": [
    {
     "output_type": "execute_result",
     "data": {
      "text/plain": [
       "{'$schema': '',\n",
       " '@context': '',\n",
       " '@id': 'my-test-dataset',\n",
       " '@type': 'VtcDataset',\n",
       " 'dataProviders': None,\n",
       " 'dateCreated': None,\n",
       " 'dateModified': None,\n",
       " 'links': None,\n",
       " 'metadata': None,\n",
       " 'sdPublisher': None}"
      ]
     },
     "metadata": {},
     "execution_count": 11
    }
   ],
   "source": [
    "ds.to_dict()"
   ]
  },
  {
   "cell_type": "code",
   "execution_count": null,
   "metadata": {},
   "outputs": [],
   "source": []
  }
 ]
}