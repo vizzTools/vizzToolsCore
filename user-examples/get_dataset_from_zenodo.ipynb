{
 "metadata": {
  "language_info": {
   "codemirror_mode": {
    "name": "ipython",
    "version": 3
   },
   "file_extension": ".py",
   "mimetype": "text/x-python",
   "name": "python",
   "nbconvert_exporter": "python",
   "pygments_lexer": "ipython3",
   "version": "3.8.5-final"
  },
  "orig_nbformat": 2,
  "kernelspec": {
   "name": "python38564bitdf682b14f6f8481c9e7311c2191f7adf",
   "display_name": "Python 3.8.5 64-bit"
  }
 },
 "nbformat": 4,
 "nbformat_minor": 2,
 "cells": [
  {
   "cell_type": "code",
   "execution_count": 1,
   "metadata": {},
   "outputs": [],
   "source": [
    "import vizzToolsCore as vtc\n",
    "import json\n",
    "from bs4 import BeautifulSoup\n",
    "import requests"
   ]
  },
  {
   "cell_type": "code",
   "execution_count": 2,
   "metadata": {},
   "outputs": [
    {
     "output_type": "stream",
     "name": "stdout",
     "text": [
      "{\n  \"$schema\": null,\n  \"@context\": null,\n  \"@id\": \"my-test-dataset\",\n  \"@type\": null,\n  \"alternateName\": null,\n  \"citation\": null,\n  \"creator\": null,\n  \"dataProviders\": null,\n  \"dateCreated\": null,\n  \"dateModified\": null,\n  \"datePublished\": null,\n  \"description\": null,\n  \"distribution\": null,\n  \"funder\": null,\n  \"hasPart\": null,\n  \"identifier\": null,\n  \"inLanguage\": null,\n  \"isBasedOn\": null,\n  \"isPartOf\": null,\n  \"license\": null,\n  \"measurementTechnique\": null,\n  \"name\": null,\n  \"provider\": null,\n  \"sameAs\": null,\n  \"sdPublisher\": null,\n  \"spatialCoverage\": null,\n  \"temporalCoverage\": null,\n  \"thumbnailUrl\": null,\n  \"url\": null,\n  \"variableMeasured\": null,\n  \"version\": null\n}\n"
     ]
    }
   ],
   "source": [
    "# Create a new Dataset object\n",
    "ds = vtc.dataset_from_dict({\"@id\": \"my-test-dataset\"})\n",
    "print(json.dumps(ds.to_dict(), indent=2, sort_keys=True))"
   ]
  },
  {
   "cell_type": "code",
   "execution_count": 3,
   "metadata": {},
   "outputs": [
    {
     "output_type": "stream",
     "name": "stdout",
     "text": [
      "{\n  \"$schema\": \"../json-schema/Dataset.schema.json\",\n  \"@context\": \"\",\n  \"@id\": \"gmw-mangrove-total-carbon-version-1-0-0\",\n  \"@type\": \"Dataset\",\n  \"alternateName\": \"Example version 0.0.1\",\n  \"citation\": \"Identifies academic articles that are recommended by the data provider be cited in addition to the dataset itself.\",\n  \"creator\": [\n    {\n      \"@id\": \"https://orcid.org/0000-0002-5011-6744\",\n      \"@type\": \"Person\",\n      \"affiliation\": \"Vizzuality, Madrid, Spain\",\n      \"contactPoint\": null,\n      \"familyName\": null,\n      \"givenName\": null,\n      \"name\": \"Edward P. Morris\",\n      \"sameAs\": \"https://orcid.org/0000-0002-5011-6744\",\n      \"url\": null\n    },\n    {\n      \"@id\": \"https://ror.org/02a809t02\",\n      \"@type\": \"Organization\",\n      \"affiliation\": null,\n      \"contactPoint\": null,\n      \"familyName\": null,\n      \"givenName\": null,\n      \"name\": \"Vizzuality\",\n      \"sameAs\": \"https://ror.org/02a809t02\",\n      \"url\": null\n    }\n  ],\n  \"dataProviders\": [\n    {\n      \"data\": \"file:///tests/data/obs.csv\",\n      \"format\": null,\n      \"geom_field\": null,\n      \"id_field\": \"id\",\n      \"name\": \"CSV\",\n      \"options\": null,\n      \"table\": null,\n      \"time_field\": null,\n      \"type\": \"feature\",\n      \"x_field\": \"long\",\n      \"y_field\": \"lat\"\n    },\n    {\n      \"data\": \"file:///tests/data/obs.json\",\n      \"format\": null,\n      \"geom_field\": null,\n      \"id_field\": \"id\",\n      \"name\": \"GeoJSON\",\n      \"options\": null,\n      \"table\": null,\n      \"time_field\": null,\n      \"type\": \"feature\",\n      \"x_field\": null,\n      \"y_field\": null\n    },\n    {\n      \"data\": \"http://localhost:9200/ne_110m_populated_places_simple\",\n      \"format\": null,\n      \"geom_field\": null,\n      \"id_field\": \"id\",\n      \"name\": \"Elasticsearch\",\n      \"options\": null,\n      \"table\": null,\n      \"time_field\": \"datetimefield\",\n      \"type\": \"feature\",\n      \"x_field\": null,\n      \"y_field\": null\n    },\n    {\n      \"data\": {\n        \"dbname\": \"test\",\n        \"host\": \"127.0.0.1\",\n        \"password\": \"postgres\",\n        \"search_path\": [\n          \"osm\",\n          \"public\"\n        ],\n        \"user\": \"postgres\"\n      },\n      \"format\": null,\n      \"geom_field\": \"foo_geom\",\n      \"id_field\": \"osm_id\",\n      \"name\": \"PostgreSQL\",\n      \"options\": null,\n      \"table\": \"hotosm_bdi_waterways\",\n      \"time_field\": null,\n      \"type\": \"feature\",\n      \"x_field\": null,\n      \"y_field\": null\n    },\n    {\n      \"data\": \"file:///tests/data/CMC_glb_TMP_TGL_2_latlon.15x.15_2020081000_P000.grib2\",\n      \"format\": {\n        \"mimetype\": \"application/x-grib2\",\n        \"name\": \"GRIB\"\n      },\n      \"geom_field\": null,\n      \"id_field\": null,\n      \"name\": \"rasterio\",\n      \"options\": {\n        \"DATA_ENCODING\": \"COMPLEX_PACKING\",\n        \"metadata_format\": null,\n        \"schemes\": null,\n        \"zoom\": null\n      },\n      \"table\": null,\n      \"time_field\": null,\n      \"type\": \"coverage\",\n      \"x_field\": null,\n      \"y_field\": null\n    },\n    {\n      \"data\": \"file:///tests/data/coads_sst.nc\",\n      \"format\": {\n        \"mimetype\": \"application/x-netcdf\",\n        \"name\": \"netcdf\"\n      },\n      \"geom_field\": null,\n      \"id_field\": null,\n      \"name\": \"xarray\",\n      \"options\": null,\n      \"table\": null,\n      \"time_field\": \"time\",\n      \"type\": \"coverage\",\n      \"x_field\": \"lon\",\n      \"y_field\": null\n    },\n    {\n      \"data\": \"file:///tests/data/analysed_sst.zarr\",\n      \"format\": {\n        \"mimetype\": \"application/zip\",\n        \"name\": \"zarr\"\n      },\n      \"geom_field\": null,\n      \"id_field\": null,\n      \"name\": \"xarray\",\n      \"options\": null,\n      \"table\": null,\n      \"time_field\": null,\n      \"type\": \"coverage\",\n      \"x_field\": null,\n      \"y_field\": null\n    },\n    {\n      \"data\": \"file:///tests/data/tiles/ne_110m_lakes\",\n      \"format\": {\n        \"mimetype\": \"application/vnd.mapbox-vector-tile\",\n        \"name\": \"pbf\"\n      },\n      \"geom_field\": null,\n      \"id_field\": null,\n      \"name\": \"MVT\",\n      \"options\": {\n        \"DATA_ENCODING\": null,\n        \"metadata_format\": \"raw\",\n        \"schemes\": [\n          \"WorldCRS84Quad\"\n        ],\n        \"zoom\": {\n          \"max\": 5,\n          \"min\": 0\n        }\n      },\n      \"table\": null,\n      \"time_field\": null,\n      \"type\": \"tile\",\n      \"x_field\": null,\n      \"y_field\": null\n    }\n  ],\n  \"dateCreated\": \"2020-10-18T20:48:57+00:00\",\n  \"dateModified\": \"2020-10-18T20:48:57+00:00\",\n  \"datePublished\": \"2018-05-08T00:00:00\",\n  \"description\": \"The summary must be between 50 and 5000 characters long. The summary may include Markdown syntax. Embedded images need to use absolute path URLs (instead of relative paths). When using the JSON-LD format, denote new lines with two characters: backslash and lower case letter 'n'.\",\n  \"distribution\": [\n    {\n      \"@type\": \"DataDownload\",\n      \"contentUrl\": \"https://zenodo.org/api/files/8399ce4c-250d-4d89-bebb-cdc43afe8ead/data description.docx\",\n      \"encodingFormat\": \"docx\",\n      \"name\": \"Description\"\n    },\n    {\n      \"@type\": \"DataDownload\",\n      \"contentUrl\": \"https://zenodo.org/api/files/8399ce4c-250d-4d89-bebb-cdc43afe8ead/input_maps.zip\",\n      \"encodingFormat\": \"zip\",\n      \"name\": \"Data\"\n    }\n  ],\n  \"funder\": [\n    {\n      \"@id\": \"https://ror.org/02a809t02\",\n      \"@type\": \"Organization\",\n      \"affiliation\": null,\n      \"contactPoint\": null,\n      \"familyName\": null,\n      \"givenName\": null,\n      \"name\": \"Vizzuality\",\n      \"sameAs\": \"https://ror.org/02a809t02\",\n      \"url\": null\n    }\n  ],\n  \"hasPart\": null,\n  \"identifier\": \"https://doi.org/XXXXXX\",\n  \"inLanguage\": \"en\",\n  \"isBasedOn\": \"https://doi.org/XXXXXX\",\n  \"isPartOf\": null,\n  \"license\": \"https://creativecommons.org/licenses/by/4.0\",\n  \"measurementTechnique\": \"The technique, technology, or methodology used in a dataset, which can correspond to the variable(s) described in variableMeasured.\",\n  \"name\": \"Example collection\",\n  \"provider\": [\n    {\n      \"@id\": \"https://ror.org/02a809t02\",\n      \"@type\": \"Organization\",\n      \"affiliation\": null,\n      \"contactPoint\": null,\n      \"familyName\": null,\n      \"givenName\": null,\n      \"name\": \"Vizzuality\",\n      \"sameAs\": \"https://ror.org/02a809t02\",\n      \"url\": null\n    }\n  ],\n  \"sameAs\": \"https://doi.org/XXXXXX\",\n  \"sdPublisher\": [\n    {\n      \"@id\": \"https://ror.org/02a809t02\",\n      \"@type\": \"Organization\",\n      \"affiliation\": null,\n      \"contactPoint\": null,\n      \"familyName\": null,\n      \"givenName\": null,\n      \"name\": \"Vizzuality\",\n      \"sameAs\": \"https://ror.org/02a809t02\",\n      \"url\": null\n    }\n  ],\n  \"spatialCoverage\": \"Global tropics\",\n  \"temporalCoverage\": \"1950-01-01/2013-12-18\",\n  \"thumbnailUrl\": \"https://dataset-thumbnail.jpeg\",\n  \"url\": \"https://zenodo.org/XXXXXX\",\n  \"variableMeasured\": \"The variable that this dataset measures. For example, temperature or pressure.\",\n  \"version\": \"0.0.1\"\n}\n"
     ]
    }
   ],
   "source": [
    "# Load JSONLD Dataset\n",
    "with open(\"../jsonld-examples/Dataset.jsonld\") as f:\n",
    "    ds = vtc.dataset_from_dict(json.load(f))\n",
    "    print(json.dumps(ds.to_dict(), indent=2, sort_keys=True))"
   ]
  },
  {
   "cell_type": "code",
   "execution_count": 6,
   "metadata": {},
   "outputs": [
    {
     "output_type": "stream",
     "name": "stdout",
     "text": [
      "{\n  \"$schema\": null,\n  \"@context\": \"https://schema.org/\",\n  \"@id\": \"https://doi.org/10.5281/zenodo.1346097\",\n  \"@type\": \"Dataset\",\n  \"alternateName\": null,\n  \"citation\": null,\n  \"creator\": [\n    {\n      \"@id\": \"https://orcid.org/0000-0002-1388-3303\",\n      \"@type\": \"Person\",\n      \"affiliation\": \"European Commission, Joint Research Centre, Directorate Space, Security and Migration, Ispra, Italy\",\n      \"contactPoint\": null,\n      \"familyName\": null,\n      \"givenName\": null,\n      \"name\": \"Dottori, Francesco\",\n      \"sameAs\": null,\n      \"url\": null\n    },\n    {\n      \"@id\": \"https://orcid.org/0000-0001-5065-2179\",\n      \"@type\": \"Person\",\n      \"affiliation\": \"European Commission, Joint Research Centre, Directorate Energy, Transport and Climate, Sevilla, Spain\",\n      \"contactPoint\": null,\n      \"familyName\": null,\n      \"givenName\": null,\n      \"name\": \"Szewczyk, Wojciech\",\n      \"sameAs\": null,\n      \"url\": null\n    },\n    {\n      \"@id\": \"https://orcid.org/0000-0001-5558-817X\",\n      \"@type\": \"Person\",\n      \"affiliation\": \"European Commission, Joint Research Centre, Directorate Energy, Transport and Climate, Sevilla, Spain\",\n      \"contactPoint\": null,\n      \"familyName\": null,\n      \"givenName\": null,\n      \"name\": \"Ciscar, Juan-Carlos\",\n      \"sameAs\": null,\n      \"url\": null\n    },\n    {\n      \"@id\": \"https://orcid.org/0000-0002-4819-3724\",\n      \"@type\": \"Person\",\n      \"affiliation\": \"Potsdam Institute for Climate Impact Research,  Potsdam, Germany\",\n      \"contactPoint\": null,\n      \"familyName\": null,\n      \"givenName\": null,\n      \"name\": \"Zhao, Fang\",\n      \"sameAs\": null,\n      \"url\": null\n    },\n    {\n      \"@id\": \"https://orcid.org/0000-0002-3616-386X\",\n      \"@type\": \"Person\",\n      \"affiliation\": \"European Commission, Joint Research Centre, Directorate Space, Security and Migration, Ispra, Italy\",\n      \"contactPoint\": null,\n      \"familyName\": null,\n      \"givenName\": null,\n      \"name\": \"Alfieri, Lorenzo\",\n      \"sameAs\": null,\n      \"url\": null\n    },\n    {\n      \"@id\": \"https://orcid.org/0000-0001-5693-197X\",\n      \"@type\": \"Person\",\n      \"affiliation\": \"Institute of Industrial Science, The University of Tokyo, Japan\",\n      \"contactPoint\": null,\n      \"familyName\": null,\n      \"givenName\": null,\n      \"name\": \"Hirabayashi, Yukiko\",\n      \"sameAs\": null,\n      \"url\": null\n    },\n    {\n      \"@id\": null,\n      \"@type\": \"Person\",\n      \"affiliation\": \"Arcadia SIT, Vigevano, Italy\",\n      \"contactPoint\": null,\n      \"familyName\": null,\n      \"givenName\": null,\n      \"name\": \"Bianchi, Alessandra\",\n      \"sameAs\": null,\n      \"url\": null\n    },\n    {\n      \"@id\": null,\n      \"@type\": \"Person\",\n      \"affiliation\": \"European Commission, Joint Research Centre, Directorate Energy, Transport and Climate, Sevilla, Spain\",\n      \"contactPoint\": null,\n      \"familyName\": null,\n      \"givenName\": null,\n      \"name\": \"Mongelli, Ignazio\",\n      \"sameAs\": null,\n      \"url\": null\n    },\n    {\n      \"@id\": \"https://orcid.org/0000-0003-4869-3013\",\n      \"@type\": \"Person\",\n      \"affiliation\": \"Potsdam Institute for Climate Impact Research, Potsdam, Germany\",\n      \"contactPoint\": null,\n      \"familyName\": null,\n      \"givenName\": null,\n      \"name\": \"Frieler, Katja\",\n      \"sameAs\": null,\n      \"url\": null\n    },\n    {\n      \"@id\": \"https://orcid.org/0000-0002-4929-0307\",\n      \"@type\": \"Person\",\n      \"affiliation\": \"College of Life and Environmental Sciences, University of Exeter, UK; Met Office Hadley Centre, Exeter, UK\",\n      \"contactPoint\": null,\n      \"familyName\": null,\n      \"givenName\": null,\n      \"name\": \"Betts, Richard A.\",\n      \"sameAs\": null,\n      \"url\": null\n    },\n    {\n      \"@id\": null,\n      \"@type\": \"Person\",\n      \"affiliation\": \"European Commission, Joint Research Centre, Directorate Space, Security and Migration, Ispra, Italy\",\n      \"contactPoint\": null,\n      \"familyName\": null,\n      \"givenName\": null,\n      \"name\": \"Feyen, Luc\",\n      \"sameAs\": null,\n      \"url\": null\n    }\n  ],\n  \"dataProviders\": null,\n  \"dateCreated\": null,\n  \"dateModified\": null,\n  \"datePublished\": \"2018-08-15T00:00:00\",\n  \"description\": \"<p>This repository contains the data set derived from a modelling framework developed to evaluate present and future impacts from river flooding and described in the scientific paper &quot;Increased Human and economic losses from river flooding with anthropogenic warming&quot;, published in Nature Climate Change. The repository contains the following data, for more details please refer to the &quot;readme.doc&quot; file.</p>\\n\\n<ul>\\n\\t<li>Static and dynamic exposure maps (land use, economic variables, population distribution)</li>\\n\\t<li>global distributed maps of economic damage from river flooding for the present and future periods. Maps are provided for each model realization (i.e. combination of a global climate model and a global hydrological model)</li>\\n\\t<li>global maps of population affected by river flooding for the present and future periods, computed with current socioeconomic conditions and with SSP3 and SSP5 population projections. Maps are provided for each model realization</li>\\n\\t<li>tables of socio-economic impacts (fatalities, mortality rates, economic losses, population exposed) aggregated per continents, macro-regions and countries. Tables are provided for each model realization</li>\\n\\t<li>Tables of the variables used as input data in the impact assessment procedure</li>\\n</ul>\",\n  \"distribution\": [\n    {\n      \"@type\": \"DataDownload\",\n      \"contentUrl\": \"https://zenodo.org/api/files/8399ce4c-250d-4d89-bebb-cdc43afe8ead/data description.docx\"\n    },\n    {\n      \"@type\": \"DataDownload\",\n      \"contentUrl\": \"https://zenodo.org/api/files/8399ce4c-250d-4d89-bebb-cdc43afe8ead/input_maps.zip\"\n    },\n    {\n      \"@type\": \"DataDownload\",\n      \"contentUrl\": \"https://zenodo.org/api/files/8399ce4c-250d-4d89-bebb-cdc43afe8ead/input_tables.zip\"\n    },\n    {\n      \"@type\": \"DataDownload\",\n      \"contentUrl\": \"https://zenodo.org/api/files/8399ce4c-250d-4d89-bebb-cdc43afe8ead/output_global_damage.zip\"\n    },\n    {\n      \"@type\": \"DataDownload\",\n      \"contentUrl\": \"https://zenodo.org/api/files/8399ce4c-250d-4d89-bebb-cdc43afe8ead/output_global_pop.zip\"\n    },\n    {\n      \"@type\": \"DataDownload\",\n      \"contentUrl\": \"https://zenodo.org/api/files/8399ce4c-250d-4d89-bebb-cdc43afe8ead/output_tables.zip\"\n    },\n    {\n      \"@type\": \"DataDownload\",\n      \"contentUrl\": \"https://zenodo.org/api/files/8399ce4c-250d-4d89-bebb-cdc43afe8ead/tables_DirDam.zip\"\n    },\n    {\n      \"@type\": \"DataDownload\",\n      \"contentUrl\": \"https://zenodo.org/api/files/8399ce4c-250d-4d89-bebb-cdc43afe8ead/tables_PopAff.zip\"\n    }\n  ],\n  \"funder\": null,\n  \"hasPart\": null,\n  \"identifier\": \"https://doi.org/10.5281/zenodo.1346097\",\n  \"inLanguage\": null,\n  \"isBasedOn\": null,\n  \"isPartOf\": null,\n  \"license\": \"https://creativecommons.org/licenses/by/4.0/legalcode\",\n  \"measurementTechnique\": null,\n  \"name\": \"Human and economic losses from river flooding with anthropogenic warming\",\n  \"provider\": null,\n  \"sameAs\": null,\n  \"sdPublisher\": null,\n  \"spatialCoverage\": null,\n  \"temporalCoverage\": null,\n  \"thumbnailUrl\": null,\n  \"url\": \"https://zenodo.org/record/1346097\",\n  \"variableMeasured\": null,\n  \"version\": null\n}\n"
     ]
    }
   ],
   "source": [
    "# Get Dataset from a Zenodo URL\n",
    "URL=\"https://zenodo.org/record/1346097/export/schemaorg_jsonld\"\n",
    "\n",
    "def extractJSON(url, tag):\n",
    "  page = requests.get(url)\n",
    "  soup = BeautifulSoup(page.content, 'html.parser')\n",
    "  return json.loads(soup.select_one(tag).contents[0].strip())\n",
    "\n",
    "ds = vtc.dataset_from_dict(extractJSON(URL, 'pre'))\n",
    "print(json.dumps(ds.to_dict(), indent=2, sort_keys=True))"
   ]
  },
  {
   "cell_type": "code",
   "execution_count": null,
   "metadata": {},
   "outputs": [],
   "source": []
  }
 ]
}